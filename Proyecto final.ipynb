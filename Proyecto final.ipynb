{
 "cells": [
  {
   "cell_type": "markdown",
   "metadata": {},
   "source": [
    "<img src= \"Imágenes/Logo Universidad.png\" alt=\"IPython Notebook\" style=\"width: 150px;\"/>"
   ]
  },
  {
   "cell_type": "markdown",
   "metadata": {},
   "source": [
    "<p style= \"text-align:center; font-family: Calibri; font-size: x-large; color: grey; font-weight:bold;\"> Comparación de rendimiento entre Alexia Putellas y Amanda Sampedro </p>"
   ]
  },
  {
   "cell_type": "markdown",
   "metadata": {},
   "source": [
    "  "
   ]
  },
  {
   "cell_type": "markdown",
   "metadata": {},
   "source": [
    "<img src= \"Imágenes/alexia vs amanda.jpg\" alt=\"IPython Notebook\" style=\"width: 600px;\"/>"
   ]
  },
  {
   "cell_type": "markdown",
   "metadata": {},
   "source": [
    "<p style= \"text-align:left; font-family: Calibri; font-size: x-large; color: black; font-weight:bold;\"> Índice </p>\n",
    "    <p style= \"text-align:left; font-family: Calibri; font-size: large; color: black; font-weight:normal;\"> 1. Introducción </p>\n",
    "    <p style= \"text-align:left; font-family: Calibri; font-size: large; color: black; font-weight:normal;\"> 2. Análisis comparativo </p>\n",
    "    <p style= \"text-align:left; font-family: Calibri; font-size: large; color: black; font-weight:normal;\"> 3. Conclusión </p>\n"
   ]
  },
  {
   "cell_type": "markdown",
   "metadata": {},
   "source": [
    "    "
   ]
  },
  {
   "cell_type": "markdown",
   "metadata": {},
   "source": [
    "---------------------"
   ]
  },
  {
   "cell_type": "markdown",
   "metadata": {},
   "source": [
    "<p style= \"text-align:left; font-family: Calibri; font-size: x-large; color: black; font-weight:bold;\"> 1. Introducción </p>"
   ]
  },
  {
   "cell_type": "markdown",
   "metadata": {},
   "source": [
    "<p style= \"text-align:justify; font-family: Calibri; font-size: medium; color: black; font-weight:normal;\">\n",
    "En este Notebook se llevará a cabo un análisis comparativo entre el rendimiento de las jugadoras de fútbol Alexia Putellas y Amanda Sampedro, ambas mediocentros referentes no sólo para sus respectivos equipos, el Fútbol Club Barcelona Femení y el Atlético de Madrid Femenino, sino también para la máxima categoría de fútbol femenino, la Liga Iberdrola. </p>\n",
    "\n",
    "<p style= \"text-align:justify; font-family: Calibri; font-size: medium; color: black; font-weight:normal;\">\n",
    "Para ello, utilizaremos dos datasets que incluyen datos del rendimiento de dichas jugadoras en las jornadas de los últimos cuatro años. Estos datasets son los siguientes:\n",
    "</p>"
   ]
  },
  {
   "cell_type": "code",
   "execution_count": 7,
   "metadata": {},
   "outputs": [],
   "source": [
    "import pandas as pd"
   ]
  },
  {
   "cell_type": "markdown",
   "metadata": {},
   "source": [
    "<p style= \"text-align:left; font-family: Calibri; font-size: large; color: black; font-weight:bold;\"> Datos Alexia Putellas </p>"
   ]
  },
  {
   "cell_type": "code",
   "execution_count": 55,
   "metadata": {},
   "outputs": [
    {
     "data": {
      "text/html": [
       "<div>\n",
       "<style scoped>\n",
       "    .dataframe tbody tr th:only-of-type {\n",
       "        vertical-align: middle;\n",
       "    }\n",
       "\n",
       "    .dataframe tbody tr th {\n",
       "        vertical-align: top;\n",
       "    }\n",
       "\n",
       "    .dataframe thead th {\n",
       "        text-align: right;\n",
       "    }\n",
       "</style>\n",
       "<table border=\"1\" class=\"dataframe\">\n",
       "  <thead>\n",
       "    <tr style=\"text-align: right;\">\n",
       "      <th></th>\n",
       "      <th>Date</th>\n",
       "      <th>Unnamed: 1</th>\n",
       "      <th>Opponent</th>\n",
       "      <th>score</th>\n",
       "      <th>InStat Index</th>\n",
       "      <th>Position</th>\n",
       "      <th>Goals</th>\n",
       "      <th>Assists</th>\n",
       "      <th>Chances</th>\n",
       "      <th>Chances successful</th>\n",
       "      <th>...</th>\n",
       "      <th>Attacking challenges</th>\n",
       "      <th>Challenges in attack / won, %</th>\n",
       "      <th>Air challenges</th>\n",
       "      <th>Air challenges won, %</th>\n",
       "      <th>Dribbles</th>\n",
       "      <th>Successful dribbles, %</th>\n",
       "      <th>Tackles</th>\n",
       "      <th>Tackles won, %</th>\n",
       "      <th>Ball interceptions</th>\n",
       "      <th>Free ball pick ups</th>\n",
       "    </tr>\n",
       "  </thead>\n",
       "  <tbody>\n",
       "    <tr>\n",
       "      <th>0</th>\n",
       "      <td>11/11</td>\n",
       "      <td>vs</td>\n",
       "      <td>Atletico Madrid</td>\n",
       "      <td>3 : 0</td>\n",
       "      <td>229</td>\n",
       "      <td>CM</td>\n",
       "      <td>-</td>\n",
       "      <td>-</td>\n",
       "      <td>1</td>\n",
       "      <td>-</td>\n",
       "      <td>...</td>\n",
       "      <td>8</td>\n",
       "      <td>38%</td>\n",
       "      <td>1</td>\n",
       "      <td>100%</td>\n",
       "      <td>3</td>\n",
       "      <td>67%</td>\n",
       "      <td>6</td>\n",
       "      <td>33%</td>\n",
       "      <td>1</td>\n",
       "      <td>5</td>\n",
       "    </tr>\n",
       "    <tr>\n",
       "      <th>1</th>\n",
       "      <td>31/10</td>\n",
       "      <td>@</td>\n",
       "      <td>Real Betis</td>\n",
       "      <td>5 : 0</td>\n",
       "      <td>260</td>\n",
       "      <td>CM</td>\n",
       "      <td>-</td>\n",
       "      <td>-</td>\n",
       "      <td>1</td>\n",
       "      <td>-</td>\n",
       "      <td>...</td>\n",
       "      <td>12</td>\n",
       "      <td>42%</td>\n",
       "      <td>-</td>\n",
       "      <td>-</td>\n",
       "      <td>4</td>\n",
       "      <td>100%</td>\n",
       "      <td>3</td>\n",
       "      <td>33%</td>\n",
       "      <td>4</td>\n",
       "      <td>4</td>\n",
       "    </tr>\n",
       "    <tr>\n",
       "      <th>2</th>\n",
       "      <td>18/10</td>\n",
       "      <td>@</td>\n",
       "      <td>Huelva</td>\n",
       "      <td>6 : 0</td>\n",
       "      <td>284</td>\n",
       "      <td>CM</td>\n",
       "      <td>1</td>\n",
       "      <td>-</td>\n",
       "      <td>1</td>\n",
       "      <td>1</td>\n",
       "      <td>...</td>\n",
       "      <td>18</td>\n",
       "      <td>61%</td>\n",
       "      <td>8</td>\n",
       "      <td>38%</td>\n",
       "      <td>7</td>\n",
       "      <td>71%</td>\n",
       "      <td>5</td>\n",
       "      <td>40%</td>\n",
       "      <td>5</td>\n",
       "      <td>2</td>\n",
       "    </tr>\n",
       "    <tr>\n",
       "      <th>3</th>\n",
       "      <td>11/10</td>\n",
       "      <td>vs</td>\n",
       "      <td>Logrono</td>\n",
       "      <td>6 : 0</td>\n",
       "      <td>226</td>\n",
       "      <td>CM</td>\n",
       "      <td>1</td>\n",
       "      <td>-</td>\n",
       "      <td>1</td>\n",
       "      <td>1</td>\n",
       "      <td>...</td>\n",
       "      <td>1</td>\n",
       "      <td>-</td>\n",
       "      <td>2</td>\n",
       "      <td>50%</td>\n",
       "      <td>-</td>\n",
       "      <td>-</td>\n",
       "      <td>-</td>\n",
       "      <td>-</td>\n",
       "      <td>-</td>\n",
       "      <td>1</td>\n",
       "    </tr>\n",
       "    <tr>\n",
       "      <th>4</th>\n",
       "      <td>04/10</td>\n",
       "      <td>@</td>\n",
       "      <td>Real Madrid Fem</td>\n",
       "      <td>4 : 0</td>\n",
       "      <td>341</td>\n",
       "      <td>CM</td>\n",
       "      <td>1</td>\n",
       "      <td>1</td>\n",
       "      <td>2</td>\n",
       "      <td>1</td>\n",
       "      <td>...</td>\n",
       "      <td>9</td>\n",
       "      <td>67%</td>\n",
       "      <td>1</td>\n",
       "      <td>-</td>\n",
       "      <td>3</td>\n",
       "      <td>100%</td>\n",
       "      <td>4</td>\n",
       "      <td>100%</td>\n",
       "      <td>6</td>\n",
       "      <td>5</td>\n",
       "    </tr>\n",
       "    <tr>\n",
       "      <th>...</th>\n",
       "      <td>...</td>\n",
       "      <td>...</td>\n",
       "      <td>...</td>\n",
       "      <td>...</td>\n",
       "      <td>...</td>\n",
       "      <td>...</td>\n",
       "      <td>...</td>\n",
       "      <td>...</td>\n",
       "      <td>...</td>\n",
       "      <td>...</td>\n",
       "      <td>...</td>\n",
       "      <td>...</td>\n",
       "      <td>...</td>\n",
       "      <td>...</td>\n",
       "      <td>...</td>\n",
       "      <td>...</td>\n",
       "      <td>...</td>\n",
       "      <td>...</td>\n",
       "      <td>...</td>\n",
       "      <td>...</td>\n",
       "      <td>...</td>\n",
       "    </tr>\n",
       "    <tr>\n",
       "      <th>75</th>\n",
       "      <td>03/12/16</td>\n",
       "      <td>@</td>\n",
       "      <td>Oiartzun</td>\n",
       "      <td>1 : 0</td>\n",
       "      <td>156</td>\n",
       "      <td>RM</td>\n",
       "      <td>-</td>\n",
       "      <td>1</td>\n",
       "      <td>-</td>\n",
       "      <td>-</td>\n",
       "      <td>...</td>\n",
       "      <td>24</td>\n",
       "      <td>38%</td>\n",
       "      <td>1</td>\n",
       "      <td>-</td>\n",
       "      <td>18</td>\n",
       "      <td>44%</td>\n",
       "      <td>1</td>\n",
       "      <td>100%</td>\n",
       "      <td>1</td>\n",
       "      <td>7</td>\n",
       "    </tr>\n",
       "    <tr>\n",
       "      <th>76</th>\n",
       "      <td>20/11/16</td>\n",
       "      <td>vs</td>\n",
       "      <td>Athletic Bilbao</td>\n",
       "      <td>2 : 1</td>\n",
       "      <td>159</td>\n",
       "      <td>F</td>\n",
       "      <td>-</td>\n",
       "      <td>-</td>\n",
       "      <td>-</td>\n",
       "      <td>-</td>\n",
       "      <td>...</td>\n",
       "      <td>13</td>\n",
       "      <td>54%</td>\n",
       "      <td>-</td>\n",
       "      <td>-</td>\n",
       "      <td>8</td>\n",
       "      <td>63%</td>\n",
       "      <td>1</td>\n",
       "      <td>100%</td>\n",
       "      <td>-</td>\n",
       "      <td>3</td>\n",
       "    </tr>\n",
       "    <tr>\n",
       "      <th>77</th>\n",
       "      <td>30/10/16</td>\n",
       "      <td>@</td>\n",
       "      <td>Huelva</td>\n",
       "      <td>1 : 0</td>\n",
       "      <td>211</td>\n",
       "      <td>RM</td>\n",
       "      <td>-</td>\n",
       "      <td>1</td>\n",
       "      <td>1</td>\n",
       "      <td>-</td>\n",
       "      <td>...</td>\n",
       "      <td>14</td>\n",
       "      <td>29%</td>\n",
       "      <td>5</td>\n",
       "      <td>20%</td>\n",
       "      <td>4</td>\n",
       "      <td>75%</td>\n",
       "      <td>1</td>\n",
       "      <td>100%</td>\n",
       "      <td>3</td>\n",
       "      <td>5</td>\n",
       "    </tr>\n",
       "    <tr>\n",
       "      <th>78</th>\n",
       "      <td>15/10/16</td>\n",
       "      <td>vs</td>\n",
       "      <td>Fundacion Albac</td>\n",
       "      <td>7 : 0</td>\n",
       "      <td>167</td>\n",
       "      <td>RM</td>\n",
       "      <td>1</td>\n",
       "      <td>-</td>\n",
       "      <td>2</td>\n",
       "      <td>1</td>\n",
       "      <td>...</td>\n",
       "      <td>3</td>\n",
       "      <td>67%</td>\n",
       "      <td>-</td>\n",
       "      <td>-</td>\n",
       "      <td>2</td>\n",
       "      <td>100%</td>\n",
       "      <td>1</td>\n",
       "      <td>100%</td>\n",
       "      <td>1</td>\n",
       "      <td>2</td>\n",
       "    </tr>\n",
       "    <tr>\n",
       "      <th>79</th>\n",
       "      <td>NaN</td>\n",
       "      <td>NaN</td>\n",
       "      <td>Average per match</td>\n",
       "      <td>NaN</td>\n",
       "      <td>223</td>\n",
       "      <td>NaN</td>\n",
       "      <td>0.43</td>\n",
       "      <td>0.3</td>\n",
       "      <td>1.25</td>\n",
       "      <td>0.43</td>\n",
       "      <td>...</td>\n",
       "      <td>10</td>\n",
       "      <td>54</td>\n",
       "      <td>3.6</td>\n",
       "      <td>56</td>\n",
       "      <td>4.8</td>\n",
       "      <td>65</td>\n",
       "      <td>3.3</td>\n",
       "      <td>57</td>\n",
       "      <td>3</td>\n",
       "      <td>6</td>\n",
       "    </tr>\n",
       "  </tbody>\n",
       "</table>\n",
       "<p>80 rows × 43 columns</p>\n",
       "</div>"
      ],
      "text/plain": [
       "        Date Unnamed: 1           Opponent  score  InStat Index Position  \\\n",
       "0      11/11         vs    Atletico Madrid  3 : 0           229       CM   \n",
       "1      31/10          @         Real Betis  5 : 0           260       CM   \n",
       "2      18/10          @             Huelva  6 : 0           284       CM   \n",
       "3      11/10         vs            Logrono  6 : 0           226       CM   \n",
       "4      04/10          @    Real Madrid Fem  4 : 0           341       CM   \n",
       "..       ...        ...                ...    ...           ...      ...   \n",
       "75  03/12/16          @           Oiartzun  1 : 0           156       RM   \n",
       "76  20/11/16         vs    Athletic Bilbao  2 : 1           159        F   \n",
       "77  30/10/16          @             Huelva  1 : 0           211       RM   \n",
       "78  15/10/16         vs    Fundacion Albac  7 : 0           167       RM   \n",
       "79       NaN        NaN  Average per match    NaN           223      NaN   \n",
       "\n",
       "   Goals Assists Chances Chances successful  ... Attacking challenges  \\\n",
       "0      -       -       1                  -  ...                    8   \n",
       "1      -       -       1                  -  ...                   12   \n",
       "2      1       -       1                  1  ...                   18   \n",
       "3      1       -       1                  1  ...                    1   \n",
       "4      1       1       2                  1  ...                    9   \n",
       "..   ...     ...     ...                ...  ...                  ...   \n",
       "75     -       1       -                  -  ...                   24   \n",
       "76     -       -       -                  -  ...                   13   \n",
       "77     -       1       1                  -  ...                   14   \n",
       "78     1       -       2                  1  ...                    3   \n",
       "79  0.43     0.3    1.25               0.43  ...                   10   \n",
       "\n",
       "   Challenges in attack / won, % Air challenges Air challenges won, %  \\\n",
       "0                            38%              1                  100%   \n",
       "1                            42%              -                     -   \n",
       "2                            61%              8                   38%   \n",
       "3                              -              2                   50%   \n",
       "4                            67%              1                     -   \n",
       "..                           ...            ...                   ...   \n",
       "75                           38%              1                     -   \n",
       "76                           54%              -                     -   \n",
       "77                           29%              5                   20%   \n",
       "78                           67%              -                     -   \n",
       "79                            54            3.6                    56   \n",
       "\n",
       "   Dribbles Successful dribbles, % Tackles Tackles won, % Ball interceptions  \\\n",
       "0         3                    67%       6            33%                  1   \n",
       "1         4                   100%       3            33%                  4   \n",
       "2         7                    71%       5            40%                  5   \n",
       "3         -                      -       -              -                  -   \n",
       "4         3                   100%       4           100%                  6   \n",
       "..      ...                    ...     ...            ...                ...   \n",
       "75       18                    44%       1           100%                  1   \n",
       "76        8                    63%       1           100%                  -   \n",
       "77        4                    75%       1           100%                  3   \n",
       "78        2                   100%       1           100%                  1   \n",
       "79      4.8                     65     3.3             57                  3   \n",
       "\n",
       "   Free ball pick ups  \n",
       "0                   5  \n",
       "1                   4  \n",
       "2                   2  \n",
       "3                   1  \n",
       "4                   5  \n",
       "..                ...  \n",
       "75                  7  \n",
       "76                  3  \n",
       "77                  5  \n",
       "78                  2  \n",
       "79                  6  \n",
       "\n",
       "[80 rows x 43 columns]"
      ]
     },
     "execution_count": 55,
     "metadata": {},
     "output_type": "execute_result"
    }
   ],
   "source": [
    "#Importamos el dataset desde un archivo de excel\n",
    "datosAlexia = pd.read_excel('DatosAlexiaPutellas.xlsx')\n",
    "datosAlexia"
   ]
  },
  {
   "cell_type": "code",
   "execution_count": 73,
   "metadata": {},
   "outputs": [
    {
     "ename": "AttributeError",
     "evalue": "'Series' object has no attribute 'type'",
     "output_type": "error",
     "traceback": [
      "\u001b[1;31m---------------------------------------------------------------------------\u001b[0m",
      "\u001b[1;31mAttributeError\u001b[0m                            Traceback (most recent call last)",
      "\u001b[1;32m<ipython-input-73-2a2ad14d94f7>\u001b[0m in \u001b[0;36m<module>\u001b[1;34m\u001b[0m\n\u001b[1;32m----> 1\u001b[1;33m \u001b[0mdatosAlexia\u001b[0m\u001b[1;33m[\u001b[0m\u001b[1;34m'Air challenges won, %'\u001b[0m\u001b[1;33m]\u001b[0m\u001b[1;33m.\u001b[0m\u001b[0mtype\u001b[0m\u001b[1;33m(\u001b[0m\u001b[1;33m)\u001b[0m\u001b[1;33m\u001b[0m\u001b[1;33m\u001b[0m\u001b[0m\n\u001b[0m",
      "\u001b[1;32m~\\anaconda3\\lib\\site-packages\\pandas\\core\\generic.py\u001b[0m in \u001b[0;36m__getattr__\u001b[1;34m(self, name)\u001b[0m\n\u001b[0;32m   5272\u001b[0m             \u001b[1;32mif\u001b[0m \u001b[0mself\u001b[0m\u001b[1;33m.\u001b[0m\u001b[0m_info_axis\u001b[0m\u001b[1;33m.\u001b[0m\u001b[0m_can_hold_identifiers_and_holds_name\u001b[0m\u001b[1;33m(\u001b[0m\u001b[0mname\u001b[0m\u001b[1;33m)\u001b[0m\u001b[1;33m:\u001b[0m\u001b[1;33m\u001b[0m\u001b[1;33m\u001b[0m\u001b[0m\n\u001b[0;32m   5273\u001b[0m                 \u001b[1;32mreturn\u001b[0m \u001b[0mself\u001b[0m\u001b[1;33m[\u001b[0m\u001b[0mname\u001b[0m\u001b[1;33m]\u001b[0m\u001b[1;33m\u001b[0m\u001b[1;33m\u001b[0m\u001b[0m\n\u001b[1;32m-> 5274\u001b[1;33m             \u001b[1;32mreturn\u001b[0m \u001b[0mobject\u001b[0m\u001b[1;33m.\u001b[0m\u001b[0m__getattribute__\u001b[0m\u001b[1;33m(\u001b[0m\u001b[0mself\u001b[0m\u001b[1;33m,\u001b[0m \u001b[0mname\u001b[0m\u001b[1;33m)\u001b[0m\u001b[1;33m\u001b[0m\u001b[1;33m\u001b[0m\u001b[0m\n\u001b[0m\u001b[0;32m   5275\u001b[0m \u001b[1;33m\u001b[0m\u001b[0m\n\u001b[0;32m   5276\u001b[0m     \u001b[1;32mdef\u001b[0m \u001b[0m__setattr__\u001b[0m\u001b[1;33m(\u001b[0m\u001b[0mself\u001b[0m\u001b[1;33m,\u001b[0m \u001b[0mname\u001b[0m\u001b[1;33m:\u001b[0m \u001b[0mstr\u001b[0m\u001b[1;33m,\u001b[0m \u001b[0mvalue\u001b[0m\u001b[1;33m)\u001b[0m \u001b[1;33m->\u001b[0m \u001b[1;32mNone\u001b[0m\u001b[1;33m:\u001b[0m\u001b[1;33m\u001b[0m\u001b[1;33m\u001b[0m\u001b[0m\n",
      "\u001b[1;31mAttributeError\u001b[0m: 'Series' object has no attribute 'type'"
     ]
    }
   ],
   "source": [
    "#Al intentar trabajar con columnas que son porcentajes da error, porque necesta un valor numérico. Necesitamos quitar el % \n",
    "#y que el dato sea un int\n",
    "datosAlexia['Air challenges won, %'].type()"
   ]
  },
  {
   "cell_type": "code",
   "execution_count": 70,
   "metadata": {},
   "outputs": [
    {
     "ename": "KeyError",
     "evalue": "('Air challenges, %', 'Successful dribbles, %')",
     "output_type": "error",
     "traceback": [
      "\u001b[1;31m---------------------------------------------------------------------------\u001b[0m",
      "\u001b[1;31mKeyError\u001b[0m                                  Traceback (most recent call last)",
      "\u001b[1;32m~\\anaconda3\\lib\\site-packages\\pandas\\core\\indexes\\base.py\u001b[0m in \u001b[0;36mget_loc\u001b[1;34m(self, key, method, tolerance)\u001b[0m\n\u001b[0;32m   2645\u001b[0m             \u001b[1;32mtry\u001b[0m\u001b[1;33m:\u001b[0m\u001b[1;33m\u001b[0m\u001b[1;33m\u001b[0m\u001b[0m\n\u001b[1;32m-> 2646\u001b[1;33m                 \u001b[1;32mreturn\u001b[0m \u001b[0mself\u001b[0m\u001b[1;33m.\u001b[0m\u001b[0m_engine\u001b[0m\u001b[1;33m.\u001b[0m\u001b[0mget_loc\u001b[0m\u001b[1;33m(\u001b[0m\u001b[0mkey\u001b[0m\u001b[1;33m)\u001b[0m\u001b[1;33m\u001b[0m\u001b[1;33m\u001b[0m\u001b[0m\n\u001b[0m\u001b[0;32m   2647\u001b[0m             \u001b[1;32mexcept\u001b[0m \u001b[0mKeyError\u001b[0m\u001b[1;33m:\u001b[0m\u001b[1;33m\u001b[0m\u001b[1;33m\u001b[0m\u001b[0m\n",
      "\u001b[1;32mpandas\\_libs\\index.pyx\u001b[0m in \u001b[0;36mpandas._libs.index.IndexEngine.get_loc\u001b[1;34m()\u001b[0m\n",
      "\u001b[1;32mpandas\\_libs\\index.pyx\u001b[0m in \u001b[0;36mpandas._libs.index.IndexEngine.get_loc\u001b[1;34m()\u001b[0m\n",
      "\u001b[1;32mpandas\\_libs\\hashtable_class_helper.pxi\u001b[0m in \u001b[0;36mpandas._libs.hashtable.PyObjectHashTable.get_item\u001b[1;34m()\u001b[0m\n",
      "\u001b[1;32mpandas\\_libs\\hashtable_class_helper.pxi\u001b[0m in \u001b[0;36mpandas._libs.hashtable.PyObjectHashTable.get_item\u001b[1;34m()\u001b[0m\n",
      "\u001b[1;31mKeyError\u001b[0m: ('Air challenges, %', 'Successful dribbles, %')",
      "\nDuring handling of the above exception, another exception occurred:\n",
      "\u001b[1;31mKeyError\u001b[0m                                  Traceback (most recent call last)",
      "\u001b[1;32m<ipython-input-70-e6667269f931>\u001b[0m in \u001b[0;36m<module>\u001b[1;34m\u001b[0m\n\u001b[0;32m      1\u001b[0m \u001b[1;31m#Intento quitar el % de las columnas que lo tienen\u001b[0m\u001b[1;33m\u001b[0m\u001b[1;33m\u001b[0m\u001b[1;33m\u001b[0m\u001b[0m\n\u001b[1;32m----> 2\u001b[1;33m \u001b[0mcols\u001b[0m \u001b[1;33m=\u001b[0m \u001b[0mdatosAlexia\u001b[0m\u001b[1;33m[\u001b[0m\u001b[1;34m'Air challenges, %'\u001b[0m\u001b[1;33m,\u001b[0m \u001b[1;34m'Successful dribbles, %'\u001b[0m\u001b[1;33m]\u001b[0m\u001b[1;33m\u001b[0m\u001b[1;33m\u001b[0m\u001b[0m\n\u001b[0m\u001b[0;32m      3\u001b[0m \u001b[1;32mfor\u001b[0m \u001b[0mcol\u001b[0m \u001b[1;32min\u001b[0m \u001b[0mcols\u001b[0m\u001b[1;33m:\u001b[0m\u001b[1;33m\u001b[0m\u001b[1;33m\u001b[0m\u001b[0m\n\u001b[0;32m      4\u001b[0m        \u001b[0mdatosAlexia\u001b[0m\u001b[1;33m[\u001b[0m\u001b[0mcol\u001b[0m\u001b[1;33m]\u001b[0m \u001b[1;33m=\u001b[0m \u001b[0mdatosAlexia\u001b[0m\u001b[1;33m[\u001b[0m\u001b[0mcol\u001b[0m\u001b[1;33m]\u001b[0m\u001b[1;33m.\u001b[0m\u001b[0mmap\u001b[0m\u001b[1;33m(\u001b[0m\u001b[1;32mlambda\u001b[0m \u001b[0mx\u001b[0m\u001b[1;33m:\u001b[0m \u001b[0mstr\u001b[0m\u001b[1;33m(\u001b[0m\u001b[0mx\u001b[0m\u001b[1;33m)\u001b[0m\u001b[1;33m.\u001b[0m\u001b[0mlstrip\u001b[0m\u001b[1;33m(\u001b[0m\u001b[1;34m'%'\u001b[0m\u001b[1;33m)\u001b[0m\u001b[1;33m.\u001b[0m\u001b[0mrstrip\u001b[0m\u001b[1;33m(\u001b[0m\u001b[1;34m'%'\u001b[0m\u001b[1;33m)\u001b[0m\u001b[1;33m)\u001b[0m\u001b[1;33m.\u001b[0m\u001b[0mastype\u001b[0m\u001b[1;33m(\u001b[0m\u001b[0mfloat\u001b[0m\u001b[1;33m)\u001b[0m\u001b[1;33m\u001b[0m\u001b[1;33m\u001b[0m\u001b[0m\n",
      "\u001b[1;32m~\\anaconda3\\lib\\site-packages\\pandas\\core\\frame.py\u001b[0m in \u001b[0;36m__getitem__\u001b[1;34m(self, key)\u001b[0m\n\u001b[0;32m   2798\u001b[0m             \u001b[1;32mif\u001b[0m \u001b[0mself\u001b[0m\u001b[1;33m.\u001b[0m\u001b[0mcolumns\u001b[0m\u001b[1;33m.\u001b[0m\u001b[0mnlevels\u001b[0m \u001b[1;33m>\u001b[0m \u001b[1;36m1\u001b[0m\u001b[1;33m:\u001b[0m\u001b[1;33m\u001b[0m\u001b[1;33m\u001b[0m\u001b[0m\n\u001b[0;32m   2799\u001b[0m                 \u001b[1;32mreturn\u001b[0m \u001b[0mself\u001b[0m\u001b[1;33m.\u001b[0m\u001b[0m_getitem_multilevel\u001b[0m\u001b[1;33m(\u001b[0m\u001b[0mkey\u001b[0m\u001b[1;33m)\u001b[0m\u001b[1;33m\u001b[0m\u001b[1;33m\u001b[0m\u001b[0m\n\u001b[1;32m-> 2800\u001b[1;33m             \u001b[0mindexer\u001b[0m \u001b[1;33m=\u001b[0m \u001b[0mself\u001b[0m\u001b[1;33m.\u001b[0m\u001b[0mcolumns\u001b[0m\u001b[1;33m.\u001b[0m\u001b[0mget_loc\u001b[0m\u001b[1;33m(\u001b[0m\u001b[0mkey\u001b[0m\u001b[1;33m)\u001b[0m\u001b[1;33m\u001b[0m\u001b[1;33m\u001b[0m\u001b[0m\n\u001b[0m\u001b[0;32m   2801\u001b[0m             \u001b[1;32mif\u001b[0m \u001b[0mis_integer\u001b[0m\u001b[1;33m(\u001b[0m\u001b[0mindexer\u001b[0m\u001b[1;33m)\u001b[0m\u001b[1;33m:\u001b[0m\u001b[1;33m\u001b[0m\u001b[1;33m\u001b[0m\u001b[0m\n\u001b[0;32m   2802\u001b[0m                 \u001b[0mindexer\u001b[0m \u001b[1;33m=\u001b[0m \u001b[1;33m[\u001b[0m\u001b[0mindexer\u001b[0m\u001b[1;33m]\u001b[0m\u001b[1;33m\u001b[0m\u001b[1;33m\u001b[0m\u001b[0m\n",
      "\u001b[1;32m~\\anaconda3\\lib\\site-packages\\pandas\\core\\indexes\\base.py\u001b[0m in \u001b[0;36mget_loc\u001b[1;34m(self, key, method, tolerance)\u001b[0m\n\u001b[0;32m   2646\u001b[0m                 \u001b[1;32mreturn\u001b[0m \u001b[0mself\u001b[0m\u001b[1;33m.\u001b[0m\u001b[0m_engine\u001b[0m\u001b[1;33m.\u001b[0m\u001b[0mget_loc\u001b[0m\u001b[1;33m(\u001b[0m\u001b[0mkey\u001b[0m\u001b[1;33m)\u001b[0m\u001b[1;33m\u001b[0m\u001b[1;33m\u001b[0m\u001b[0m\n\u001b[0;32m   2647\u001b[0m             \u001b[1;32mexcept\u001b[0m \u001b[0mKeyError\u001b[0m\u001b[1;33m:\u001b[0m\u001b[1;33m\u001b[0m\u001b[1;33m\u001b[0m\u001b[0m\n\u001b[1;32m-> 2648\u001b[1;33m                 \u001b[1;32mreturn\u001b[0m \u001b[0mself\u001b[0m\u001b[1;33m.\u001b[0m\u001b[0m_engine\u001b[0m\u001b[1;33m.\u001b[0m\u001b[0mget_loc\u001b[0m\u001b[1;33m(\u001b[0m\u001b[0mself\u001b[0m\u001b[1;33m.\u001b[0m\u001b[0m_maybe_cast_indexer\u001b[0m\u001b[1;33m(\u001b[0m\u001b[0mkey\u001b[0m\u001b[1;33m)\u001b[0m\u001b[1;33m)\u001b[0m\u001b[1;33m\u001b[0m\u001b[1;33m\u001b[0m\u001b[0m\n\u001b[0m\u001b[0;32m   2649\u001b[0m         \u001b[0mindexer\u001b[0m \u001b[1;33m=\u001b[0m \u001b[0mself\u001b[0m\u001b[1;33m.\u001b[0m\u001b[0mget_indexer\u001b[0m\u001b[1;33m(\u001b[0m\u001b[1;33m[\u001b[0m\u001b[0mkey\u001b[0m\u001b[1;33m]\u001b[0m\u001b[1;33m,\u001b[0m \u001b[0mmethod\u001b[0m\u001b[1;33m=\u001b[0m\u001b[0mmethod\u001b[0m\u001b[1;33m,\u001b[0m \u001b[0mtolerance\u001b[0m\u001b[1;33m=\u001b[0m\u001b[0mtolerance\u001b[0m\u001b[1;33m)\u001b[0m\u001b[1;33m\u001b[0m\u001b[1;33m\u001b[0m\u001b[0m\n\u001b[0;32m   2650\u001b[0m         \u001b[1;32mif\u001b[0m \u001b[0mindexer\u001b[0m\u001b[1;33m.\u001b[0m\u001b[0mndim\u001b[0m \u001b[1;33m>\u001b[0m \u001b[1;36m1\u001b[0m \u001b[1;32mor\u001b[0m \u001b[0mindexer\u001b[0m\u001b[1;33m.\u001b[0m\u001b[0msize\u001b[0m \u001b[1;33m>\u001b[0m \u001b[1;36m1\u001b[0m\u001b[1;33m:\u001b[0m\u001b[1;33m\u001b[0m\u001b[1;33m\u001b[0m\u001b[0m\n",
      "\u001b[1;32mpandas\\_libs\\index.pyx\u001b[0m in \u001b[0;36mpandas._libs.index.IndexEngine.get_loc\u001b[1;34m()\u001b[0m\n",
      "\u001b[1;32mpandas\\_libs\\index.pyx\u001b[0m in \u001b[0;36mpandas._libs.index.IndexEngine.get_loc\u001b[1;34m()\u001b[0m\n",
      "\u001b[1;32mpandas\\_libs\\hashtable_class_helper.pxi\u001b[0m in \u001b[0;36mpandas._libs.hashtable.PyObjectHashTable.get_item\u001b[1;34m()\u001b[0m\n",
      "\u001b[1;32mpandas\\_libs\\hashtable_class_helper.pxi\u001b[0m in \u001b[0;36mpandas._libs.hashtable.PyObjectHashTable.get_item\u001b[1;34m()\u001b[0m\n",
      "\u001b[1;31mKeyError\u001b[0m: ('Air challenges, %', 'Successful dribbles, %')"
     ]
    }
   ],
   "source": [
    "#Intento quitar el % de las columnas que lo tienen\n",
    "cols = datosAlexia['Air challenges, %', 'Successful dribbles, %']\n",
    "for col in cols:\n",
    "       datosAlexia[col] = datosAlexia[col].map(lambda x: str(x).lstrip('%').rstrip('%')).astype(float)"
   ]
  },
  {
   "cell_type": "markdown",
   "metadata": {},
   "source": [
    "    "
   ]
  },
  {
   "cell_type": "markdown",
   "metadata": {},
   "source": [
    "<p style= \"text-align:left; font-family: Calibri; font-size: large; color: black; font-weight:bold;\"> Datos Amanda Sampedro </p>"
   ]
  },
  {
   "cell_type": "code",
   "execution_count": 9,
   "metadata": {},
   "outputs": [
    {
     "data": {
      "text/html": [
       "<div>\n",
       "<style scoped>\n",
       "    .dataframe tbody tr th:only-of-type {\n",
       "        vertical-align: middle;\n",
       "    }\n",
       "\n",
       "    .dataframe tbody tr th {\n",
       "        vertical-align: top;\n",
       "    }\n",
       "\n",
       "    .dataframe thead th {\n",
       "        text-align: right;\n",
       "    }\n",
       "</style>\n",
       "<table border=\"1\" class=\"dataframe\">\n",
       "  <thead>\n",
       "    <tr style=\"text-align: right;\">\n",
       "      <th></th>\n",
       "      <th>Date</th>\n",
       "      <th>Unnamed: 1</th>\n",
       "      <th>Opponent</th>\n",
       "      <th>score</th>\n",
       "      <th>InStat Index</th>\n",
       "      <th>Position</th>\n",
       "      <th>Goals</th>\n",
       "      <th>Assists</th>\n",
       "      <th>Chances</th>\n",
       "      <th>Chances successful</th>\n",
       "      <th>...</th>\n",
       "      <th>Attacking challenges</th>\n",
       "      <th>Challenges in attack / won, %</th>\n",
       "      <th>Air challenges</th>\n",
       "      <th>Air challenges won, %</th>\n",
       "      <th>Dribbles</th>\n",
       "      <th>Successful dribbles, %</th>\n",
       "      <th>Tackles</th>\n",
       "      <th>Tackles won, %</th>\n",
       "      <th>Ball interceptions</th>\n",
       "      <th>Free ball pick ups</th>\n",
       "    </tr>\n",
       "  </thead>\n",
       "  <tbody>\n",
       "    <tr>\n",
       "      <th>0</th>\n",
       "      <td>11/11</td>\n",
       "      <td>@</td>\n",
       "      <td>Barcelona</td>\n",
       "      <td>0 : 3</td>\n",
       "      <td>172</td>\n",
       "      <td>RM</td>\n",
       "      <td>-</td>\n",
       "      <td>-</td>\n",
       "      <td>-</td>\n",
       "      <td>-</td>\n",
       "      <td>...</td>\n",
       "      <td>9</td>\n",
       "      <td>22%</td>\n",
       "      <td>1</td>\n",
       "      <td>-</td>\n",
       "      <td>1</td>\n",
       "      <td>-</td>\n",
       "      <td>5</td>\n",
       "      <td>40%</td>\n",
       "      <td>3</td>\n",
       "      <td>3</td>\n",
       "    </tr>\n",
       "    <tr>\n",
       "      <th>1</th>\n",
       "      <td>08/11</td>\n",
       "      <td>vs</td>\n",
       "      <td>Huelva</td>\n",
       "      <td>0 : 0</td>\n",
       "      <td>177</td>\n",
       "      <td>DM</td>\n",
       "      <td>-</td>\n",
       "      <td>-</td>\n",
       "      <td>-</td>\n",
       "      <td>-</td>\n",
       "      <td>...</td>\n",
       "      <td>4</td>\n",
       "      <td>75%</td>\n",
       "      <td>2</td>\n",
       "      <td>-</td>\n",
       "      <td>3</td>\n",
       "      <td>67%</td>\n",
       "      <td>-</td>\n",
       "      <td>-</td>\n",
       "      <td>-</td>\n",
       "      <td>-</td>\n",
       "    </tr>\n",
       "    <tr>\n",
       "      <th>2</th>\n",
       "      <td>05/11</td>\n",
       "      <td>@</td>\n",
       "      <td>Eibar</td>\n",
       "      <td>1 : 0</td>\n",
       "      <td>160</td>\n",
       "      <td>LM</td>\n",
       "      <td>-</td>\n",
       "      <td>-</td>\n",
       "      <td>-</td>\n",
       "      <td>-</td>\n",
       "      <td>...</td>\n",
       "      <td>5</td>\n",
       "      <td>20%</td>\n",
       "      <td>2</td>\n",
       "      <td>50%</td>\n",
       "      <td>-</td>\n",
       "      <td>-</td>\n",
       "      <td>-</td>\n",
       "      <td>-</td>\n",
       "      <td>2</td>\n",
       "      <td>6</td>\n",
       "    </tr>\n",
       "    <tr>\n",
       "      <th>3</th>\n",
       "      <td>01/11</td>\n",
       "      <td>vs</td>\n",
       "      <td>Logrono</td>\n",
       "      <td>2 : 0</td>\n",
       "      <td>201</td>\n",
       "      <td>RM</td>\n",
       "      <td>-</td>\n",
       "      <td>-</td>\n",
       "      <td>-</td>\n",
       "      <td>-</td>\n",
       "      <td>...</td>\n",
       "      <td>6</td>\n",
       "      <td>50%</td>\n",
       "      <td>3</td>\n",
       "      <td>67%</td>\n",
       "      <td>3</td>\n",
       "      <td>33%</td>\n",
       "      <td>-</td>\n",
       "      <td>-</td>\n",
       "      <td>1</td>\n",
       "      <td>3</td>\n",
       "    </tr>\n",
       "    <tr>\n",
       "      <th>4</th>\n",
       "      <td>18/10</td>\n",
       "      <td>@</td>\n",
       "      <td>Santa Teresa</td>\n",
       "      <td>2 : 0</td>\n",
       "      <td>175</td>\n",
       "      <td>RM</td>\n",
       "      <td>-</td>\n",
       "      <td>-</td>\n",
       "      <td>1</td>\n",
       "      <td>-</td>\n",
       "      <td>...</td>\n",
       "      <td>6</td>\n",
       "      <td>17%</td>\n",
       "      <td>1</td>\n",
       "      <td>100%</td>\n",
       "      <td>-</td>\n",
       "      <td>-</td>\n",
       "      <td>2</td>\n",
       "      <td>100%</td>\n",
       "      <td>-</td>\n",
       "      <td>2</td>\n",
       "    </tr>\n",
       "    <tr>\n",
       "      <th>...</th>\n",
       "      <td>...</td>\n",
       "      <td>...</td>\n",
       "      <td>...</td>\n",
       "      <td>...</td>\n",
       "      <td>...</td>\n",
       "      <td>...</td>\n",
       "      <td>...</td>\n",
       "      <td>...</td>\n",
       "      <td>...</td>\n",
       "      <td>...</td>\n",
       "      <td>...</td>\n",
       "      <td>...</td>\n",
       "      <td>...</td>\n",
       "      <td>...</td>\n",
       "      <td>...</td>\n",
       "      <td>...</td>\n",
       "      <td>...</td>\n",
       "      <td>...</td>\n",
       "      <td>...</td>\n",
       "      <td>...</td>\n",
       "      <td>...</td>\n",
       "    </tr>\n",
       "    <tr>\n",
       "      <th>79</th>\n",
       "      <td>15/04/17</td>\n",
       "      <td>vs</td>\n",
       "      <td>Valencia II</td>\n",
       "      <td>0 : 0</td>\n",
       "      <td>153</td>\n",
       "      <td>DM</td>\n",
       "      <td>-</td>\n",
       "      <td>-</td>\n",
       "      <td>-</td>\n",
       "      <td>-</td>\n",
       "      <td>...</td>\n",
       "      <td>17</td>\n",
       "      <td>41%</td>\n",
       "      <td>6</td>\n",
       "      <td>33%</td>\n",
       "      <td>3</td>\n",
       "      <td>100%</td>\n",
       "      <td>3</td>\n",
       "      <td>100%</td>\n",
       "      <td>2</td>\n",
       "      <td>-</td>\n",
       "    </tr>\n",
       "    <tr>\n",
       "      <th>80</th>\n",
       "      <td>14/01/17</td>\n",
       "      <td>@</td>\n",
       "      <td>Rayo</td>\n",
       "      <td>3 : 0</td>\n",
       "      <td>149</td>\n",
       "      <td>DM</td>\n",
       "      <td>-</td>\n",
       "      <td>-</td>\n",
       "      <td>3</td>\n",
       "      <td>1</td>\n",
       "      <td>...</td>\n",
       "      <td>8</td>\n",
       "      <td>38%</td>\n",
       "      <td>1</td>\n",
       "      <td>-</td>\n",
       "      <td>2</td>\n",
       "      <td>50%</td>\n",
       "      <td>3</td>\n",
       "      <td>67%</td>\n",
       "      <td>4</td>\n",
       "      <td>4</td>\n",
       "    </tr>\n",
       "    <tr>\n",
       "      <th>81</th>\n",
       "      <td>11/12/16</td>\n",
       "      <td>vs</td>\n",
       "      <td>Barcelona</td>\n",
       "      <td>2 : 1</td>\n",
       "      <td>145</td>\n",
       "      <td>DM</td>\n",
       "      <td>-</td>\n",
       "      <td>-</td>\n",
       "      <td>-</td>\n",
       "      <td>-</td>\n",
       "      <td>...</td>\n",
       "      <td>6</td>\n",
       "      <td>33%</td>\n",
       "      <td>1</td>\n",
       "      <td>-</td>\n",
       "      <td>3</td>\n",
       "      <td>33%</td>\n",
       "      <td>1</td>\n",
       "      <td>-</td>\n",
       "      <td>5</td>\n",
       "      <td>7</td>\n",
       "    </tr>\n",
       "    <tr>\n",
       "      <th>82</th>\n",
       "      <td>12/11/16</td>\n",
       "      <td>@</td>\n",
       "      <td>Valencia II</td>\n",
       "      <td>1 : 1</td>\n",
       "      <td>195</td>\n",
       "      <td>DM</td>\n",
       "      <td>1</td>\n",
       "      <td>-</td>\n",
       "      <td>1</td>\n",
       "      <td>1</td>\n",
       "      <td>...</td>\n",
       "      <td>14</td>\n",
       "      <td>43%</td>\n",
       "      <td>3</td>\n",
       "      <td>-</td>\n",
       "      <td>8</td>\n",
       "      <td>50%</td>\n",
       "      <td>7</td>\n",
       "      <td>86%</td>\n",
       "      <td>3</td>\n",
       "      <td>5</td>\n",
       "    </tr>\n",
       "    <tr>\n",
       "      <th>83</th>\n",
       "      <td>NaN</td>\n",
       "      <td>NaN</td>\n",
       "      <td>Average per match</td>\n",
       "      <td>NaN</td>\n",
       "      <td>196</td>\n",
       "      <td>NaN</td>\n",
       "      <td>0.18</td>\n",
       "      <td>0.29</td>\n",
       "      <td>0.69</td>\n",
       "      <td>0.18</td>\n",
       "      <td>...</td>\n",
       "      <td>7</td>\n",
       "      <td>43</td>\n",
       "      <td>1.89</td>\n",
       "      <td>34</td>\n",
       "      <td>2.5</td>\n",
       "      <td>59</td>\n",
       "      <td>2.6</td>\n",
       "      <td>54</td>\n",
       "      <td>2.7</td>\n",
       "      <td>5.8</td>\n",
       "    </tr>\n",
       "  </tbody>\n",
       "</table>\n",
       "<p>84 rows × 43 columns</p>\n",
       "</div>"
      ],
      "text/plain": [
       "        Date Unnamed: 1           Opponent  score  InStat Index Position  \\\n",
       "0      11/11          @          Barcelona  0 : 3           172       RM   \n",
       "1      08/11         vs             Huelva  0 : 0           177       DM   \n",
       "2      05/11          @              Eibar  1 : 0           160       LM   \n",
       "3      01/11         vs            Logrono  2 : 0           201       RM   \n",
       "4      18/10          @       Santa Teresa  2 : 0           175       RM   \n",
       "..       ...        ...                ...    ...           ...      ...   \n",
       "79  15/04/17         vs        Valencia II  0 : 0           153       DM   \n",
       "80  14/01/17          @               Rayo  3 : 0           149       DM   \n",
       "81  11/12/16         vs          Barcelona  2 : 1           145       DM   \n",
       "82  12/11/16          @        Valencia II  1 : 1           195       DM   \n",
       "83       NaN        NaN  Average per match    NaN           196      NaN   \n",
       "\n",
       "   Goals Assists Chances Chances successful  ... Attacking challenges  \\\n",
       "0      -       -       -                  -  ...                    9   \n",
       "1      -       -       -                  -  ...                    4   \n",
       "2      -       -       -                  -  ...                    5   \n",
       "3      -       -       -                  -  ...                    6   \n",
       "4      -       -       1                  -  ...                    6   \n",
       "..   ...     ...     ...                ...  ...                  ...   \n",
       "79     -       -       -                  -  ...                   17   \n",
       "80     -       -       3                  1  ...                    8   \n",
       "81     -       -       -                  -  ...                    6   \n",
       "82     1       -       1                  1  ...                   14   \n",
       "83  0.18    0.29    0.69               0.18  ...                    7   \n",
       "\n",
       "   Challenges in attack / won, % Air challenges Air challenges won, %  \\\n",
       "0                            22%              1                     -   \n",
       "1                            75%              2                     -   \n",
       "2                            20%              2                   50%   \n",
       "3                            50%              3                   67%   \n",
       "4                            17%              1                  100%   \n",
       "..                           ...            ...                   ...   \n",
       "79                           41%              6                   33%   \n",
       "80                           38%              1                     -   \n",
       "81                           33%              1                     -   \n",
       "82                           43%              3                     -   \n",
       "83                            43           1.89                    34   \n",
       "\n",
       "   Dribbles Successful dribbles, % Tackles Tackles won, % Ball interceptions  \\\n",
       "0         1                      -       5            40%                  3   \n",
       "1         3                    67%       -              -                  -   \n",
       "2         -                      -       -              -                  2   \n",
       "3         3                    33%       -              -                  1   \n",
       "4         -                      -       2           100%                  -   \n",
       "..      ...                    ...     ...            ...                ...   \n",
       "79        3                   100%       3           100%                  2   \n",
       "80        2                    50%       3            67%                  4   \n",
       "81        3                    33%       1              -                  5   \n",
       "82        8                    50%       7            86%                  3   \n",
       "83      2.5                     59     2.6             54                2.7   \n",
       "\n",
       "   Free ball pick ups  \n",
       "0                   3  \n",
       "1                   -  \n",
       "2                   6  \n",
       "3                   3  \n",
       "4                   2  \n",
       "..                ...  \n",
       "79                  -  \n",
       "80                  4  \n",
       "81                  7  \n",
       "82                  5  \n",
       "83                5.8  \n",
       "\n",
       "[84 rows x 43 columns]"
      ]
     },
     "execution_count": 9,
     "metadata": {},
     "output_type": "execute_result"
    }
   ],
   "source": [
    "#Importamos el dataset desde un archivo de excel\n",
    "datosAmanda = pd.read_excel('DatosAmandaSampedro.xlsx')\n",
    "datosAmanda"
   ]
  },
  {
   "cell_type": "markdown",
   "metadata": {},
   "source": [
    "    "
   ]
  },
  {
   "cell_type": "markdown",
   "metadata": {},
   "source": [
    "<p style= \"text-align:justify; font-family: Calibri; font-size: medium; color: black; font-weight:normal;\">\n",
    "A continuación, eliminamos de los datasets todas las columnas que no serán necesarias para nuestro análisis: </p>\n",
    "\n"
   ]
  },
  {
   "cell_type": "code",
   "execution_count": 10,
   "metadata": {},
   "outputs": [],
   "source": [
    "#Eliminamos las columnas cuyos datos no son de interés para el trabajo\n",
    "\n",
    "datosAlexia2 = datosAlexia.drop(columns = ['Unnamed: 1', 'InStat Index', 'Position', 'Chances, % of conversion', 'xG (Expected goals)', 'Lost balls in own half',\n",
    "                     \"Ball recoveries in opponent's half\",  'Defensive challenges', 'Challenges in defence won, %',\n",
    "                     'Attacking challenges', 'Challenges in attack / won, %', 'Free ball pick ups' ])\n",
    "datosAmanda2 = datosAmanda.drop(columns = ['Unnamed: 1', 'InStat Index', 'Position', 'Chances, % of conversion', 'xG (Expected goals)', 'Lost balls in own half',\n",
    "                     \"Ball recoveries in opponent's half\",  'Defensive challenges', 'Challenges in defence won, %',\n",
    "                     'Attacking challenges', 'Challenges in attack / won, %', 'Free ball pick ups' ])"
   ]
  },
  {
   "cell_type": "markdown",
   "metadata": {},
   "source": [
    "    "
   ]
  },
  {
   "cell_type": "markdown",
   "metadata": {},
   "source": [
    "<p style= \"text-align:justify; font-family: Calibri; font-size: medium; color: black; font-weight:normal;\">\n",
    "Renombramos aquellas columnas que lo requieran: </p>"
   ]
  },
  {
   "cell_type": "code",
   "execution_count": 11,
   "metadata": {},
   "outputs": [],
   "source": [
    "#Renombramos las columnas que lo requieran\n",
    "datosAlexia3 = datosAlexia2.rename(columns = {'score' : 'Score'})\n",
    "datosAmanda3 = datosAmanda2.rename(columns = {'score' : 'Score'})"
   ]
  },
  {
   "cell_type": "markdown",
   "metadata": {},
   "source": [
    "    "
   ]
  },
  {
   "cell_type": "markdown",
   "metadata": {},
   "source": [
    "<p style= \"text-align:justify; font-family: Calibri; font-size: medium; color: black; font-weight:normal;\">\n",
    "Cambiamos aquellos valores que en el dataset tienen un guion por 0, ya que realmente los guiones deberían ser ceros. Esto ns ayudará a trabajar con los datos. </p>"
   ]
  },
  {
   "cell_type": "code",
   "execution_count": 12,
   "metadata": {},
   "outputs": [],
   "source": [
    "#Cambiamos los guiones por 0\n",
    "datosAlexia4 = datosAlexia3.applymap(lambda x: 0 if x == '-' else x)\n",
    "datosAmanda4 = datosAmanda3.applymap(lambda x: 0 if x == '-' else x)"
   ]
  },
  {
   "cell_type": "markdown",
   "metadata": {},
   "source": [
    "     "
   ]
  },
  {
   "cell_type": "markdown",
   "metadata": {},
   "source": [
    "<p style= \"text-align:justify; font-family: Calibri; font-size: medium; color: black; font-weight:normal;\">\n",
    "Veamos ahora cuántas y cuales van a ser las columnas con las que vamos a trabajar: </p>"
   ]
  },
  {
   "cell_type": "code",
   "execution_count": 13,
   "metadata": {},
   "outputs": [
    {
     "data": {
      "text/plain": [
       "Index(['Date', 'Opponent', 'Score', 'Goals', 'Assists', 'Chances',\n",
       "       'Chances successful', 'Сhances created', 'Fouls', 'Fouls suffered',\n",
       "       'Yellow cards', 'Red cards', 'Offsides', 'Shots', 'Shots on target',\n",
       "       'Passes', 'Accurate passes, %', 'Key passes', 'Crosses',\n",
       "       'Accurate crosses, %', 'Lost balls', 'Ball recoveries', 'Challenges',\n",
       "       'Challenges won, %', 'Air challenges', 'Air challenges won, %',\n",
       "       'Dribbles', 'Successful dribbles, %', 'Tackles', 'Tackles won, %',\n",
       "       'Ball interceptions'],\n",
       "      dtype='object')"
      ]
     },
     "execution_count": 13,
     "metadata": {},
     "output_type": "execute_result"
    }
   ],
   "source": [
    "#Para visualizar las columnas que tiene nuestro dataframe\n",
    "datosAlexia4.columns"
   ]
  },
  {
   "cell_type": "markdown",
   "metadata": {},
   "source": [
    "    "
   ]
  },
  {
   "cell_type": "markdown",
   "metadata": {},
   "source": [
    "<p style= \"text-align:justify; font-family: Calibri; font-size: medium; color: black; font-weight:normal;\">\n",
    "Comprobamos si existen valores NaN en nuestro dataframe: </p>"
   ]
  },
  {
   "cell_type": "code",
   "execution_count": 14,
   "metadata": {},
   "outputs": [
    {
     "data": {
      "text/plain": [
       "True"
      ]
     },
     "execution_count": 14,
     "metadata": {},
     "output_type": "execute_result"
    }
   ],
   "source": [
    "datosAlexia4.isnull().values.any()"
   ]
  },
  {
   "cell_type": "markdown",
   "metadata": {},
   "source": [
    "   "
   ]
  },
  {
   "cell_type": "markdown",
   "metadata": {},
   "source": [
    "<p style= \"text-align:justify; font-family: Calibri; font-size: medium; color: black; font-weight:normal;\">\n",
    "Como la función ha devuelto true, sí hay valores NaN en el dataframe, veamos en qué columnas: </p>"
   ]
  },
  {
   "cell_type": "code",
   "execution_count": 15,
   "metadata": {},
   "outputs": [
    {
     "data": {
      "text/plain": [
       "Date                      1\n",
       "Opponent                  0\n",
       "Score                     1\n",
       "Goals                     0\n",
       "Assists                   0\n",
       "Chances                   0\n",
       "Chances successful        0\n",
       "Сhances created           0\n",
       "Fouls                     0\n",
       "Fouls suffered            0\n",
       "Yellow cards              0\n",
       "Red cards                 1\n",
       "Offsides                  0\n",
       "Shots                     0\n",
       "Shots on target           0\n",
       "Passes                    0\n",
       "Accurate passes, %        0\n",
       "Key passes                0\n",
       "Crosses                   0\n",
       "Accurate crosses, %       0\n",
       "Lost balls                0\n",
       "Ball recoveries           0\n",
       "Challenges                0\n",
       "Challenges won, %         0\n",
       "Air challenges            0\n",
       "Air challenges won, %     0\n",
       "Dribbles                  0\n",
       "Successful dribbles, %    0\n",
       "Tackles                   0\n",
       "Tackles won, %            0\n",
       "Ball interceptions        0\n",
       "dtype: int64"
      ]
     },
     "execution_count": 15,
     "metadata": {},
     "output_type": "execute_result"
    }
   ],
   "source": [
    "datosAlexia4.isnull().sum()"
   ]
  },
  {
   "cell_type": "markdown",
   "metadata": {},
   "source": [
    "     "
   ]
  },
  {
   "cell_type": "markdown",
   "metadata": {},
   "source": [
    "<p style= \"text-align:justify; font-family: Calibri; font-size: medium; color: black; font-weight:normal;\">\n",
    "Por las columnas que hemos obtenido que tienen NaN, intuímos que el problema es la última fila de los datasets, correspondiente a la media de la columna, ya que hay columnas cuya media no se puede calcular, como es el caso precisamente de la fecha. Para comprobar si esto es así, vamos a crear un nuevo dataframe que contenga únicamente las filas que tengan algún NaN. </p>"
   ]
  },
  {
   "cell_type": "code",
   "execution_count": 19,
   "metadata": {},
   "outputs": [
    {
     "data": {
      "text/html": [
       "<div>\n",
       "<style scoped>\n",
       "    .dataframe tbody tr th:only-of-type {\n",
       "        vertical-align: middle;\n",
       "    }\n",
       "\n",
       "    .dataframe tbody tr th {\n",
       "        vertical-align: top;\n",
       "    }\n",
       "\n",
       "    .dataframe thead th {\n",
       "        text-align: right;\n",
       "    }\n",
       "</style>\n",
       "<table border=\"1\" class=\"dataframe\">\n",
       "  <thead>\n",
       "    <tr style=\"text-align: right;\">\n",
       "      <th></th>\n",
       "      <th>Date</th>\n",
       "      <th>Opponent</th>\n",
       "      <th>Score</th>\n",
       "      <th>Goals</th>\n",
       "      <th>Assists</th>\n",
       "      <th>Chances</th>\n",
       "      <th>Chances successful</th>\n",
       "      <th>Сhances created</th>\n",
       "      <th>Fouls</th>\n",
       "      <th>Fouls suffered</th>\n",
       "      <th>...</th>\n",
       "      <th>Ball recoveries</th>\n",
       "      <th>Challenges</th>\n",
       "      <th>Challenges won, %</th>\n",
       "      <th>Air challenges</th>\n",
       "      <th>Air challenges won, %</th>\n",
       "      <th>Dribbles</th>\n",
       "      <th>Successful dribbles, %</th>\n",
       "      <th>Tackles</th>\n",
       "      <th>Tackles won, %</th>\n",
       "      <th>Ball interceptions</th>\n",
       "    </tr>\n",
       "  </thead>\n",
       "  <tbody>\n",
       "    <tr>\n",
       "      <th>79</th>\n",
       "      <td>NaN</td>\n",
       "      <td>Average per match</td>\n",
       "      <td>NaN</td>\n",
       "      <td>0.43</td>\n",
       "      <td>0.3</td>\n",
       "      <td>1.25</td>\n",
       "      <td>0.43</td>\n",
       "      <td>1.32</td>\n",
       "      <td>0.94</td>\n",
       "      <td>1.54</td>\n",
       "      <td>...</td>\n",
       "      <td>4.3</td>\n",
       "      <td>17</td>\n",
       "      <td>54</td>\n",
       "      <td>3.6</td>\n",
       "      <td>56</td>\n",
       "      <td>4.8</td>\n",
       "      <td>65</td>\n",
       "      <td>3.3</td>\n",
       "      <td>57</td>\n",
       "      <td>3</td>\n",
       "    </tr>\n",
       "  </tbody>\n",
       "</table>\n",
       "<p>1 rows × 31 columns</p>\n",
       "</div>"
      ],
      "text/plain": [
       "   Date           Opponent Score  Goals  Assists  Chances  Chances successful  \\\n",
       "79  NaN  Average per match   NaN   0.43      0.3     1.25                0.43   \n",
       "\n",
       "    Сhances created  Fouls  Fouls suffered  ...  Ball recoveries  Challenges  \\\n",
       "79             1.32   0.94            1.54  ...              4.3          17   \n",
       "\n",
       "    Challenges won, %  Air challenges  Air challenges won, %  Dribbles  \\\n",
       "79                 54             3.6                     56       4.8   \n",
       "\n",
       "   Successful dribbles, %  Tackles  Tackles won, % Ball interceptions  \n",
       "79                     65      3.3              57                  3  \n",
       "\n",
       "[1 rows x 31 columns]"
      ]
     },
     "execution_count": 19,
     "metadata": {},
     "output_type": "execute_result"
    }
   ],
   "source": [
    "#Creamos un nuevo dataframe compuesto sólo por las filas que tengan algún NaN\n",
    "nan_rows = datosAlexia4[datosAlexia4.isnull().any(1)]\n",
    "nan_rows"
   ]
  },
  {
   "cell_type": "markdown",
   "metadata": {},
   "source": [
    "     "
   ]
  },
  {
   "cell_type": "markdown",
   "metadata": {},
   "source": [
    "<p style= \"text-align:justify; font-family: Calibri; font-size: medium; color: black; font-weight:normal;\">\n",
    "Efecticamente, es la fila de la media la que nos está dando problemas. Por tanto, la eliminamos, ya que más adelante realizaremos la media pero sólo para las columnas para las que sea interesante obtener dicha información. Comprobemos ahora si quedan valores NaN en nuestro dataframe: </p>"
   ]
  },
  {
   "cell_type": "code",
   "execution_count": 17,
   "metadata": {},
   "outputs": [],
   "source": [
    "datosAlexia5 = datosAlexia4.drop([79], axis=0)\n",
    "datosAmanda5 = datosAmanda4.drop([83], axis=0)"
   ]
  },
  {
   "cell_type": "markdown",
   "metadata": {},
   "source": [
    "    "
   ]
  },
  {
   "cell_type": "markdown",
   "metadata": {},
   "source": [
    "<p style= \"text-align:justify; font-family: Calibri; font-size: medium; color: black; font-weight:normal;\">\n",
    "De nuevo comprobamos si quedan datos NaN en los dataframes después de eliminar esta última fila: </p>"
   ]
  },
  {
   "cell_type": "code",
   "execution_count": 147,
   "metadata": {},
   "outputs": [
    {
     "data": {
      "text/plain": [
       "False"
      ]
     },
     "execution_count": 147,
     "metadata": {},
     "output_type": "execute_result"
    }
   ],
   "source": [
    "datosAlexia5.isnull().values.any()"
   ]
  },
  {
   "cell_type": "code",
   "execution_count": 148,
   "metadata": {},
   "outputs": [
    {
     "data": {
      "text/plain": [
       "False"
      ]
     },
     "execution_count": 148,
     "metadata": {},
     "output_type": "execute_result"
    }
   ],
   "source": [
    "datosAmanda5.isnull().values.any()"
   ]
  },
  {
   "cell_type": "markdown",
   "metadata": {},
   "source": [
    "     "
   ]
  },
  {
   "cell_type": "markdown",
   "metadata": {},
   "source": [
    "<p style= \"text-align:justify; font-family: Calibri; font-size: medium; color: black; font-weight:normal;\">\n",
    "La función ha devuelto false, por lo que no quedan valores NaN en ninguno de los dataframes y por tanto, podemos proceder con el análsis de los datos. </p>"
   ]
  },
  {
   "cell_type": "markdown",
   "metadata": {},
   "source": [
    "------"
   ]
  },
  {
   "cell_type": "markdown",
   "metadata": {},
   "source": [
    "<p style= \"text-align:left; font-family: Calibri; font-size: x-large; color: black; font-weight:bold;\"> 2. Análisis comparativo </p>"
   ]
  },
  {
   "cell_type": "markdown",
   "metadata": {},
   "source": [
    "<p style= \"text-align:justify; font-family: Calibri; font-size: medium; color: black; font-weight:bold;\">\n",
    "2.1. Defensa y ataque </p>\n",
    "\n",
    "<p style= \"text-align:justify; font-family: Calibri; font-size: medium; color: black; font-weight:normal;\">\n",
    "La primera parte del análisis se centrará en comparar a Alexia y a Amanda desde el punto de vista defensivo y ofensivo. Por un lado, se estudiarán los datos en defensa de una jugadora y de otra y posteriormente se realizará lo mismo con el ataque. Vamos guardando los datos en variables por si necesitamos utilizarlos más adelante.</p>\n",
    "\n",
    "<p style= \"text-align:justify; font-family: Calibri; font-size: medium; color: black; font-weight:normal;\">\n",
    "2.1.1. Defensa </p>"
   ]
  },
  {
   "cell_type": "code",
   "execution_count": 149,
   "metadata": {},
   "outputs": [
    {
     "data": {
      "text/plain": [
       "4.291139240506329"
      ]
     },
     "execution_count": 149,
     "metadata": {},
     "output_type": "execute_result"
    }
   ],
   "source": [
    "mediaRobosAlexia = datosAlexia5['Ball recoveries'].mean()\n",
    "mediaRobosAlexia"
   ]
  },
  {
   "cell_type": "code",
   "execution_count": 150,
   "metadata": {},
   "outputs": [
    {
     "data": {
      "text/plain": [
       "3.397590361445783"
      ]
     },
     "execution_count": 150,
     "metadata": {},
     "output_type": "execute_result"
    }
   ],
   "source": [
    "mediaRobosAmanda = datosAmanda5['Ball recoveries'].mean()\n",
    "mediaRobosAmanda"
   ]
  },
  {
   "cell_type": "markdown",
   "metadata": {},
   "source": [
    "<p style= \"text-align:justify; font-family: Calibri; font-size: medium; color: black; font-weight:normal;\">\n",
    " Como podemos ver, la media de robos por partido de Alexia es casi una unidad superior a la de Amanda. </p>"
   ]
  },
  {
   "cell_type": "markdown",
   "metadata": {},
   "source": [
    "    "
   ]
  },
  {
   "cell_type": "code",
   "execution_count": 151,
   "metadata": {},
   "outputs": [
    {
     "data": {
      "text/plain": [
       "3.0"
      ]
     },
     "execution_count": 151,
     "metadata": {},
     "output_type": "execute_result"
    }
   ],
   "source": [
    "mediaRecuperacionesAlexia = datosAlexia5['Ball interceptions'].mean()\n",
    "mediaRecuperacionesAlexia"
   ]
  },
  {
   "cell_type": "code",
   "execution_count": 152,
   "metadata": {},
   "outputs": [
    {
     "data": {
      "text/plain": [
       "2.6867469879518073"
      ]
     },
     "execution_count": 152,
     "metadata": {},
     "output_type": "execute_result"
    }
   ],
   "source": [
    "mediaRecuperacionesAmanda = datosAmanda5['Ball interceptions'].mean()\n",
    "mediaRecuperacionesAmanda"
   ]
  },
  {
   "cell_type": "markdown",
   "metadata": {},
   "source": [
    "<p style= \"text-align:justify; font-family: Calibri; font-size: medium; color: black; font-weight:normal;\">\n",
    "En cuanto a recuperaciones de balón, Alexia también es superior, aunque esta vez la diferencia es menor. </p>"
   ]
  },
  {
   "cell_type": "markdown",
   "metadata": {},
   "source": [
    "     "
   ]
  },
  {
   "cell_type": "code",
   "execution_count": 153,
   "metadata": {},
   "outputs": [
    {
     "data": {
      "text/plain": [
       "14.0"
      ]
     },
     "execution_count": 153,
     "metadata": {},
     "output_type": "execute_result"
    }
   ],
   "source": [
    "maxDesafioAereoAlexia = datosAlexia5['Air challenges'].max()\n",
    "maxDesafioAereoAlexia"
   ]
  },
  {
   "cell_type": "code",
   "execution_count": 154,
   "metadata": {},
   "outputs": [
    {
     "data": {
      "text/plain": [
       "8.0"
      ]
     },
     "execution_count": 154,
     "metadata": {},
     "output_type": "execute_result"
    }
   ],
   "source": [
    "maxDesafioAereoAmanda = datosAmanda5['Air challenges'].max()\n",
    "maxDesafioAereoAmanda"
   ]
  },
  {
   "cell_type": "markdown",
   "metadata": {},
   "source": [
    "<p style= \"text-align:justify; font-family: Calibri; font-size: medium; color: black; font-weight:normal;\">\n",
    "Finalmente, vemos que Alexia casi dobla a Amanda en desafíos aéreos. </p>"
   ]
  },
  {
   "cell_type": "markdown",
   "metadata": {},
   "source": [
    " <p style= \"text-align:justify; font-family: Calibri; font-size: medium; color: black; font-weight:normal;\">\n",
    "Como hemos podido comprobar, Alexia es superior a Amanda defensivamente. Esto puede ocurrir por dos factores: o bien debido a que su rendimiento sea mejor o bien porque el perfil de Amanda sea más defensivo que el de Alexia. Podremos comprobar cuál de las opciones se acerca más a la verdad cuando estudiemos los datos sobre el ataque de cada una. </p>"
   ]
  },
  {
   "cell_type": "markdown",
   "metadata": {},
   "source": [
    "<p style= \"text-align:justify; font-family: Calibri; font-size: medium; color: black; font-weight:normal;\">\n",
    "2.1.2. Ataque </p>"
   ]
  },
  {
   "cell_type": "markdown",
   "metadata": {},
   "source": [
    "<p style= \"text-align:justify; font-family: Calibri; font-size: medium; color: black; font-weight:normal;\">\n",
    "Primero, vamos a ver cuál es el máximo de goles por partido de cada una de las jugadoras: </p>"
   ]
  },
  {
   "cell_type": "code",
   "execution_count": 81,
   "metadata": {},
   "outputs": [
    {
     "data": {
      "text/plain": [
       "4.0"
      ]
     },
     "execution_count": 81,
     "metadata": {},
     "output_type": "execute_result"
    }
   ],
   "source": [
    "maxGolesAlexia = datosAlexia5['Goals'].max()\n",
    "maxGolesAlexia"
   ]
  },
  {
   "cell_type": "code",
   "execution_count": 82,
   "metadata": {},
   "outputs": [
    {
     "data": {
      "text/plain": [
       "1.0"
      ]
     },
     "execution_count": 82,
     "metadata": {},
     "output_type": "execute_result"
    }
   ],
   "source": [
    "maxGolesAmanda = datosAmanda5['Goals'].max()\n",
    "maxGolesAmanda"
   ]
  },
  {
   "cell_type": "markdown",
   "metadata": {},
   "source": [
    "<p style= \"text-align:justify; font-family: Calibri; font-size: medium; color: black; font-weight:normal;\">\n",
    "Vemos que el máximo de goles de Alexia en un partido en los años estudiados supera en tres unidades al máximo de Amanda. </p>"
   ]
  },
  {
   "cell_type": "markdown",
   "metadata": {},
   "source": [
    "     "
   ]
  },
  {
   "cell_type": "code",
   "execution_count": 84,
   "metadata": {},
   "outputs": [
    {
     "data": {
      "text/plain": [
       "1.0"
      ]
     },
     "execution_count": 84,
     "metadata": {},
     "output_type": "execute_result"
    }
   ],
   "source": [
    "p90 = datosAlexia5['Goals'].quantile(0.9)\n",
    "p90"
   ]
  },
  {
   "cell_type": "code",
   "execution_count": 21,
   "metadata": {},
   "outputs": [],
   "source": [
    "import numpy as np                         # importación de numpy\n",
    "import matplotlib.pyplot as plt\n",
    "%matplotlib inline"
   ]
  },
  {
   "cell_type": "code",
   "execution_count": 27,
   "metadata": {},
   "outputs": [
    {
     "data": {
      "text/plain": [
       "{'whiskers': [<matplotlib.lines.Line2D at 0x10ea5eb2d30>,\n",
       "  <matplotlib.lines.Line2D at 0x10ea5ec40d0>],\n",
       " 'caps': [<matplotlib.lines.Line2D at 0x10ea5ec4430>,\n",
       "  <matplotlib.lines.Line2D at 0x10ea5ec4790>],\n",
       " 'boxes': [<matplotlib.lines.Line2D at 0x10ea5eb29a0>],\n",
       " 'medians': [<matplotlib.lines.Line2D at 0x10ea5ec4af0>],\n",
       " 'fliers': [<matplotlib.lines.Line2D at 0x10ea5ec4df0>],\n",
       " 'means': []}"
      ]
     },
     "execution_count": 27,
     "metadata": {},
     "output_type": "execute_result"
    },
    {
     "data": {
      "image/png": "[encoded data removed]",
      "text/plain": [
       "<Figure size 720x360 with 1 Axes>"
      ]
     },
     "metadata": {
      "needs_background": "light"
     },
     "output_type": "display_data"
    }
   ],
   "source": [
    "fig, ax = plt.subplots(nrows = 1, figsize=(10,5))   \n",
    "ax.boxplot(datosAlexia5['Goals'])"
   ]
  },
  {
   "cell_type": "code",
   "execution_count": 28,
   "metadata": {},
   "outputs": [
    {
     "data": {
      "text/plain": [
       "{'whiskers': [<matplotlib.lines.Line2D at 0x10ea5f251c0>,\n",
       "  <matplotlib.lines.Line2D at 0x10ea5f25520>],\n",
       " 'caps': [<matplotlib.lines.Line2D at 0x10ea5f258b0>,\n",
       "  <matplotlib.lines.Line2D at 0x10ea5f25c10>],\n",
       " 'boxes': [<matplotlib.lines.Line2D at 0x10ea5f18e20>],\n",
       " 'medians': [<matplotlib.lines.Line2D at 0x10ea5f25f70>],\n",
       " 'fliers': [<matplotlib.lines.Line2D at 0x10ea5f2e2b0>],\n",
       " 'means': []}"
      ]
     },
     "execution_count": 28,
     "metadata": {},
     "output_type": "execute_result"
    },
    {
     "data": {
      "image/png": "[encoded data removed]",
      "text/plain": [
       "<Figure size 720x360 with 1 Axes>"
      ]
     },
     "metadata": {
      "needs_background": "light"
     },
     "output_type": "display_data"
    }
   ],
   "source": [
    "fig, ax = plt.subplots(nrows = 1, figsize=(10,5))   \n",
    "ax.boxplot(datosAmanda5['Goals'])"
   ]
  },
  {
   "cell_type": "markdown",
   "metadata": {},
   "source": [
    "    "
   ]
  },
  {
   "cell_type": "code",
   "execution_count": 31,
   "metadata": {},
   "outputs": [
    {
     "data": {
      "text/plain": [
       "<matplotlib.axes._subplots.AxesSubplot at 0x10ea7050550>"
      ]
     },
     "execution_count": 31,
     "metadata": {},
     "output_type": "execute_result"
    },
    {
     "data": {
      "image/png": "[encoded data removed]",
      "text/plain": [
       "<Figure size 432x288 with 1 Axes>"
      ]
     },
     "metadata": {
      "needs_background": "light"
     },
     "output_type": "display_data"
    }
   ],
   "source": [
    "datosAlexia5.plot(kind = 'scatter', x = 'Date', y = 'Goals')"
   ]
  },
  {
   "cell_type": "code",
   "execution_count": 52,
   "metadata": {},
   "outputs": [
    {
     "data": {
      "text/plain": [
       "<matplotlib.axes._subplots.AxesSubplot at 0x10ea264f1f0>"
      ]
     },
     "execution_count": 52,
     "metadata": {},
     "output_type": "execute_result"
    },
    {
     "data": {
      "image/png": "[encoded data removed]",
      "text/plain": [
       "<Figure size 432x288 with 1 Axes>"
      ]
     },
     "metadata": {
      "needs_background": "light"
     },
     "output_type": "display_data"
    }
   ],
   "source": [
    "datosAmanda5.plot(kind = 'scatter', x = 'Date', y = 'Goals')"
   ]
  },
  {
   "cell_type": "code",
   "execution_count": 51,
   "metadata": {},
   "outputs": [
    {
     "ename": "TypeError",
     "evalue": "'numpy.dtype' object is not callable",
     "output_type": "error",
     "traceback": [
      "\u001b[1;31m---------------------------------------------------------------------------\u001b[0m",
      "\u001b[1;31mTypeError\u001b[0m                                 Traceback (most recent call last)",
      "\u001b[1;32m<ipython-input-51-e79843512a3c>\u001b[0m in \u001b[0;36m<module>\u001b[1;34m\u001b[0m\n\u001b[1;32m----> 1\u001b[1;33m \u001b[0mdatosAlexia5\u001b[0m\u001b[1;33m[\u001b[0m\u001b[1;34m'Accurate passes, %'\u001b[0m\u001b[1;33m]\u001b[0m\u001b[1;33m.\u001b[0m\u001b[0mdtype\u001b[0m\u001b[1;33m(\u001b[0m\u001b[1;33m)\u001b[0m\u001b[1;33m\u001b[0m\u001b[1;33m\u001b[0m\u001b[0m\n\u001b[0m",
      "\u001b[1;31mTypeError\u001b[0m: 'numpy.dtype' object is not callable"
     ]
    }
   ],
   "source": [
    "datosAlexia5['Accurate passes, %'].dtype()"
   ]
  },
  {
   "cell_type": "code",
   "execution_count": 41,
   "metadata": {},
   "outputs": [
    {
     "data": {
      "image/png": "[encoded data removed]",
      "text/plain": [
       "<Figure size 720x360 with 1 Axes>"
      ]
     },
     "metadata": {
      "needs_background": "light"
     },
     "output_type": "display_data"
    }
   ],
   "source": [
    "fig, ax1 = plt.subplots(nrows = 1, figsize=(10,5))   \n",
    "\n",
    "# representamos una sola variable\n",
    "ax1.hist(datosAlexia5['Goals'], label=['Goles'], bins = 20)  \n",
    "ax1.legend(loc=0)\n",
    "\n",
    "ax1.set_title('Histograma')\n",
    "ax1.set_xlabel('Valores')\n",
    "ax1.set_ylabel('Frecuencia');"
   ]
  },
  {
   "cell_type": "code",
   "execution_count": null,
   "metadata": {},
   "outputs": [],
   "source": []
  }
 ],
 "metadata": {
  "kernelspec": {
   "display_name": "Python 3",
   "language": "python",
   "name": "python3"
  },
  "language_info": {
   "codemirror_mode": {
    "name": "ipython",
    "version": 3
   },
   "file_extension": ".py",
   "mimetype": "text/x-python",
   "name": "python",
   "nbconvert_exporter": "python",
   "pygments_lexer": "ipython3",
   "version": "3.7.9"
  }
 },
 "nbformat": 4,
 "nbformat_minor": 4
}
